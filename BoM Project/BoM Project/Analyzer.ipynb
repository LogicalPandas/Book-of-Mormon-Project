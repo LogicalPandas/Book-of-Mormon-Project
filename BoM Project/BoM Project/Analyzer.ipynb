{
 "cells": [
  {
   "cell_type": "code",
   "execution_count": 4,
   "id": "3e2ca1a2-2cca-459d-9d3b-806f32bcd570",
   "metadata": {},
   "outputs": [],
   "source": [
    "words_doc = open(\"KeyWords.txt\", \"r\")\n",
    "\n",
    "key_words = []\n",
    "for i in words_doc:\n",
    "    key_words.append(i.strip())\n",
    "    \n",
    "words_doc.close()"
   ]
  },
  {
   "cell_type": "code",
   "execution_count": 5,
   "id": "af595226",
   "metadata": {},
   "outputs": [],
   "source": [
    "words_count = {}\n",
    "for i in key_words:\n",
    "    words_count[i] = []"
   ]
  },
  {
   "cell_type": "code",
   "execution_count": 6,
   "id": "ef44d0a2",
   "metadata": {},
   "outputs": [],
   "source": [
    "BoM = open(\"BoMCleaned.txt\", \"r\")\n",
    "line_count = 1\n",
    "for line in BoM:\n",
    "    for word in words_count:\n",
    "        if word in line:\n",
    "            words_count[word].append(line_count)\n",
    "    line_count +=1\n",
    "    \n",
    "BoM.close()\n",
    "        "
   ]
  },
  {
   "cell_type": "code",
   "execution_count": 7,
   "id": "f7b4ee7a",
   "metadata": {},
   "outputs": [],
   "source": [
    "output = open(\"output.txt\", \"w\")\n",
    "for key in words_count:\n",
    "    txt = key + \": \" + str(words_count[key])\n",
    "    output.write(txt)\n",
    "    output.write(\"\\n\")\n",
    "output.close()"
   ]
  },
  {
   "cell_type": "code",
   "execution_count": 8,
   "id": "f7cc7254",
   "metadata": {},
   "outputs": [],
   "source": [
    "books = {\"Introduction\": 0, \"1 Nephi\": 0, \"2 Nephi\": 0, \"Jacob\": 0, \"Enos\": 0, \"Jarmon\": 0, \"Omni\": 0, \"Words of Mormon\": 0, \"Mosiah\": 0, \"Alma\": 0, \"Helaman\": 0, \"3 Nephi\": 0, \"4 Nephi\": 0, \"Mormon\": 0, \"Ether\": 0, \"Moroni\": 0}\n"
   ]
  },
  {
   "cell_type": "code",
   "execution_count": 9,
   "id": "5fa459eb",
   "metadata": {},
   "outputs": [],
   "source": [
    "for num in list(words_count.values()):\n",
    "    if type(num) is list:\n",
    "        for i in num:\n",
    "            if i >= 0 and i <= 37:\n",
    "                books[\"Introduction\"] += 1\n",
    "            elif i > 37 and i <= 633:\n",
    "                books[\"1 Nephi\"] += 1\n",
    "            elif i > 633 and i <=1175:\n",
    "                books[\"2 Nephi\"] += 1\n",
    "            elif i > 1175 and i <=1354:\n",
    "                books[\"Jacob\"] += 1\n",
    "            elif i > 1354 and i <= 1380:\n",
    "                books[\"Enos\"] += 1\n",
    "            elif i > 1380 and i <= 1395:\n",
    "                books[\"Jarom\"] += 1\n",
    "            elif i > 1395 and i <= 1422:\n",
    "                books[\"Omni\"] += 1\n",
    "            elif i > 1422 and i <= 1439:\n",
    "                books[\"Words of Mormon\"] += 1\n",
    "            elif i > 1439 and i <= 2097:\n",
    "                books[\"Mosiah\"] += 1\n",
    "            elif i > 2097 and i <= 3972:\n",
    "                books[\"Alma\"] += 1\n",
    "            elif i > 3972 and i <= 4353:\n",
    "                books[\"Helaman\"] += 1\n",
    "            elif i > 4353 and i <= 4978:\n",
    "                books[\"3 Nephi\"] += 1\n",
    "            elif i < 4978 and i <= 5024:\n",
    "                books[\"4 Nephi\"] += 1\n",
    "            elif i > 5024 and i <= 5191:\n",
    "                books[\"Mormon\"] += 1\n",
    "            elif i > 5191 and i <= 5510:\n",
    "                books[\"Ether\"]\n",
    "            else:\n",
    "                books[\"Moroni\"] += 1\n",
    "    else:\n",
    "        if num >= 0 and num <= 37:\n",
    "            books[\"Introduction\"] += 1\n",
    "        elif num > 37 and num <= 633:\n",
    "            books[\"1 Nephi\"] += 1\n",
    "        elif num > 633 and num <=1175:\n",
    "            books[\"2 Nephi\"] += 1\n",
    "        elif num > 1175 and num <=1354:\n",
    "            books[\"Jacob\"] += 1\n",
    "        elif num > 1354 and num <= 1380:\n",
    "            books[\"Enos\"] += 1\n",
    "        elif num > 1380 and num <= 1395:\n",
    "            books[\"Jarom\"] += 1\n",
    "        elif num > 1395 and num <= 1422:\n",
    "            books[\"Omni\"] += 1\n",
    "        elif num > 1422 and num <= 1439:\n",
    "            books[\"Words of Mormon\"] += 1\n",
    "        elif num > 1439 and num <= 2097:\n",
    "            books[\"Mosiah\"] += 1\n",
    "        elif num > 2097 and num <= 3972:\n",
    "            books[\"Alma\"] += 1\n",
    "        elif num > 3972 and num <= 4353:\n",
    "            books[\"Helaman\"] += 1\n",
    "        elif num > 4353 and num <= 4978:\n",
    "            books[\"3 Nephi\"] += 1\n",
    "        elif num < 4978 and num <= 5024:\n",
    "            books[\"4 Nephi\"] += 1\n",
    "        elif num > 5024 and num <= 5191:\n",
    "            books[\"Mormon\"] += 1\n",
    "        elif num > 5191 and num <= 5510:\n",
    "            books[\"Ether\"]\n",
    "        else:\n",
    "            books[\"Moroni\"] += 1"
   ]
  },
  {
   "cell_type": "code",
   "execution_count": 11,
   "id": "234c63f5",
   "metadata": {},
   "outputs": [],
   "source": [
    "import csv"
   ]
  },
  {
   "cell_type": "code",
   "execution_count": 21,
   "id": "8e77c657",
   "metadata": {},
   "outputs": [],
   "source": [
    "with open('output_csv.txt', mode=\"w\") as output:\n",
    "    output_writer = csv.writer(output, delimiter=',', quotechar='\"', quoting=csv.QUOTE_MINIMAL)\n",
    "    \n",
    "    output_writer.writerow([\"Book\", \"Instances\"])\n",
    "    count = 0\n",
    "    for i in books:\n",
    "        output_writer.writerow([list(books.keys())[count], books[i]])\n",
    "        count += 1"
   ]
  },
  {
   "cell_type": "code",
   "execution_count": 29,
   "id": "2ddc6402",
   "metadata": {},
   "outputs": [],
   "source": [
    "words_count_totals = {}\n",
    "for key, value in words_count.items():\n",
    "    total = 0\n",
    "    for i in value:\n",
    "        total += 1\n",
    "    words_count_totals[key] = total"
   ]
  },
  {
   "cell_type": "code",
   "execution_count": 31,
   "id": "5c29f232",
   "metadata": {},
   "outputs": [],
   "source": [
    "with open('csv_words.txt', mode=\"w\") as output:\n",
    "    output_writer = csv.writer(output, delimiter=',', quotechar='\"', quoting=csv.QUOTE_MINIMAL)\n",
    "    \n",
    "    output_writer.writerow([\"Word\", \"Instances\"])\n",
    "    for key, value in words_count_totals.items():\n",
    "        output_writer.writerow([key, value])\n",
    "        "
   ]
  },
  {
   "cell_type": "code",
   "execution_count": null,
   "id": "68cf3cd3",
   "metadata": {},
   "outputs": [],
   "source": []
  }
 ],
 "metadata": {
  "kernelspec": {
   "display_name": "Python 3 (ipykernel)",
   "language": "python",
   "name": "python3"
  },
  "language_info": {
   "codemirror_mode": {
    "name": "ipython",
    "version": 3
   },
   "file_extension": ".py",
   "mimetype": "text/x-python",
   "name": "python",
   "nbconvert_exporter": "python",
   "pygments_lexer": "ipython3",
   "version": "3.9.2"
  }
 },
 "nbformat": 4,
 "nbformat_minor": 5
}
